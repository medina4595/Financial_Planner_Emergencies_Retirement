{
 "cells": [
  {
   "cell_type": "markdown",
   "source": [
    "# Financial Planning with APIs and Simulations\n",
    "\n",
    "In this Challenge, you’ll create two financial analysis tools by using a single Jupyter notebook:\n",
    "\n",
    "Part 1: A financial planner for emergencies. The members will be able to use this tool to visualize their current savings. The members can then determine if they have enough reserves for an emergency fund.\n",
    "\n",
    "Part 2: A financial planner for retirement. This tool will forecast the performance of their retirement portfolio in 30 years. To do this, the tool will make an Alpaca API call via the Alpaca SDK to get historical price data for use in Monte Carlo simulations.\n",
    "\n",
    "You’ll use the information from the Monte Carlo simulation to answer questions about the portfolio in your Jupyter notebook.\n",
    "\n"
   ],
   "metadata": {}
  },
  {
   "cell_type": "code",
   "execution_count": 126,
   "source": [
    "# Import the required libraries and dependencies\r\n",
    "import os\r\n",
    "import requests\r\n",
    "import json\r\n",
    "import pandas as pd\r\n",
    "from dotenv import load_dotenv\r\n",
    "import alpaca_trade_api as tradeapi\r\n",
    "from MCForecastTools import MCSimulation\r\n",
    "\r\n",
    "%matplotlib inline"
   ],
   "outputs": [],
   "metadata": {}
  },
  {
   "cell_type": "code",
   "execution_count": 127,
   "source": [
    "# Load the environment variables from the .env file\r\n",
    "#by calling the load_dotenv function\r\n",
    "load_dotenv()"
   ],
   "outputs": [
    {
     "output_type": "execute_result",
     "data": {
      "text/plain": [
       "True"
      ]
     },
     "metadata": {},
     "execution_count": 127
    }
   ],
   "metadata": {}
  },
  {
   "cell_type": "markdown",
   "source": [
    "## Part 1: Create a Financial Planner for Emergencies"
   ],
   "metadata": {}
  },
  {
   "cell_type": "markdown",
   "source": [
    "### Evaluate the Cryptocurrency Wallet by Using the Requests Library\n",
    "\n",
    "In this section, you’ll determine the current value of a member’s cryptocurrency wallet. You’ll collect the current prices for the Bitcoin and Ethereum cryptocurrencies by using the Python Requests library. For the prototype, you’ll assume that the member holds the 1.2 Bitcoins (BTC) and 5.3 Ethereum coins (ETH). To do all this, complete the following steps:\n",
    "\n",
    "1. Create a variable named `monthly_income`, and set its value to `12000`.\n",
    "\n",
    "2. Use the Requests library to get the current price (in US dollars) of Bitcoin (BTC) and Ethereum (ETH) by using the API endpoints that the starter code supplies.\n",
    "\n",
    "3. Navigate the JSON response object to access the current price of each coin, and store each in a variable.\n",
    "\n",
    "    > **Hint** Note the specific identifier for each cryptocurrency in the API JSON response. The Bitcoin identifier is `1`, and the Ethereum identifier is `1027`.\n",
    "\n",
    "4. Calculate the value, in US dollars, of the current amount of each cryptocurrency and of the entire cryptocurrency wallet.\n",
    "\n"
   ],
   "metadata": {}
  },
  {
   "cell_type": "code",
   "execution_count": 128,
   "source": [
    "# The current number of coins for each cryptocurrency asset held in the portfolio.\r\n",
    "btc_coins = 1.2\r\n",
    "eth_coins = 5.3"
   ],
   "outputs": [],
   "metadata": {}
  },
  {
   "cell_type": "markdown",
   "source": [
    "#### Step 1: Create a variable named `monthly_income`, and set its value to `12000`."
   ],
   "metadata": {}
  },
  {
   "cell_type": "code",
   "execution_count": 129,
   "source": [
    "# The monthly amount for the member's household income\r\n",
    "monthly_income = 12000\r\n"
   ],
   "outputs": [],
   "metadata": {}
  },
  {
   "cell_type": "markdown",
   "source": [
    "#### Review the endpoint URLs for the API calls to Free Crypto API in order to get the current pricing information for both BTC and ETH."
   ],
   "metadata": {}
  },
  {
   "cell_type": "code",
   "execution_count": 130,
   "source": [
    "# The Free Crypto API Call endpoint URLs for the held cryptocurrency assets\r\n",
    "btc_url = \"https://api.alternative.me/v2/ticker/Bitcoin/?convert=USD\"\r\n",
    "eth_url = \"https://api.alternative.me/v2/ticker/Ethereum/?convert=USD\""
   ],
   "outputs": [],
   "metadata": {}
  },
  {
   "cell_type": "markdown",
   "source": [
    "#### Step 2. Use the Requests library to get the current price (in US dollars) of Bitcoin (BTC) and Ethereum (ETH) by using the API endpoints that the starter code supplied."
   ],
   "metadata": {}
  },
  {
   "cell_type": "code",
   "execution_count": 131,
   "source": [
    "# Using the Python requests library, make an API call to access the current price of BTC\r\n",
    "btc_response = requests.get(btc_url).json()\r\n",
    "\r\n",
    "# Use the json.dumps function to review the response data from the API call\r\n",
    "# Use the indent and sort_keys parameters to make the response object readable\r\n",
    "\r\n",
    "print(json.dumps(btc_response, indent=3, sort_keys=True))\r\n"
   ],
   "outputs": [
    {
     "output_type": "stream",
     "name": "stdout",
     "text": [
      "{\n",
      "   \"data\": {\n",
      "      \"1\": {\n",
      "         \"circulating_supply\": 18766462,\n",
      "         \"id\": 1,\n",
      "         \"last_updated\": 1627243407,\n",
      "         \"max_supply\": 21000000,\n",
      "         \"name\": \"Bitcoin\",\n",
      "         \"quotes\": {\n",
      "            \"USD\": {\n",
      "               \"market_cap\": 645423981730,\n",
      "               \"percent_change_1h\": -0.191157909426097,\n",
      "               \"percent_change_24h\": 1.43082407071388,\n",
      "               \"percent_change_7d\": 8.8438420475807,\n",
      "               \"percentage_change_1h\": -0.191157909426097,\n",
      "               \"percentage_change_24h\": 1.43082407071388,\n",
      "               \"percentage_change_7d\": 8.8438420475807,\n",
      "               \"price\": 34382.0,\n",
      "               \"volume_24h\": 19959833876\n",
      "            }\n",
      "         },\n",
      "         \"rank\": 1,\n",
      "         \"symbol\": \"BTC\",\n",
      "         \"total_supply\": 18766462,\n",
      "         \"website_slug\": \"bitcoin\"\n",
      "      }\n",
      "   },\n",
      "   \"metadata\": {\n",
      "      \"error\": null,\n",
      "      \"num_cryptocurrencies\": 3108,\n",
      "      \"timestamp\": 1627243407\n",
      "   }\n",
      "}\n"
     ]
    }
   ],
   "metadata": {}
  },
  {
   "cell_type": "code",
   "execution_count": 132,
   "source": [
    "# Using the Python requests library, make an API call to access the current price ETH\r\n",
    "eth_response = requests.get(eth_url).json()\r\n",
    "\r\n",
    "# Use the json.dumps function to review the response data from the API call\r\n",
    "# Use the indent and sort_keys parameters to make the response object readable\r\n",
    "print(json.dumps(eth_response, indent=3, sort_keys=True))\r\n"
   ],
   "outputs": [
    {
     "output_type": "stream",
     "name": "stdout",
     "text": [
      "{\n",
      "   \"data\": {\n",
      "      \"1027\": {\n",
      "         \"circulating_supply\": 116839538,\n",
      "         \"id\": 1027,\n",
      "         \"last_updated\": 1627243423,\n",
      "         \"max_supply\": 0,\n",
      "         \"name\": \"Ethereum\",\n",
      "         \"quotes\": {\n",
      "            \"USD\": {\n",
      "               \"market_cap\": 251641979209,\n",
      "               \"percent_change_1h\": -0.261042975951364,\n",
      "               \"percent_change_24h\": 0.29356988387394,\n",
      "               \"percent_change_7d\": 13.4159439973988,\n",
      "               \"percentage_change_1h\": -0.261042975951364,\n",
      "               \"percentage_change_24h\": 0.29356988387394,\n",
      "               \"percentage_change_7d\": 13.4159439973988,\n",
      "               \"price\": 2154.72,\n",
      "               \"volume_24h\": 16824538935\n",
      "            }\n",
      "         },\n",
      "         \"rank\": 2,\n",
      "         \"symbol\": \"ETH\",\n",
      "         \"total_supply\": 116839538,\n",
      "         \"website_slug\": \"ethereum\"\n",
      "      }\n",
      "   },\n",
      "   \"metadata\": {\n",
      "      \"error\": null,\n",
      "      \"num_cryptocurrencies\": 3108,\n",
      "      \"timestamp\": 1627243423\n",
      "   }\n",
      "}\n"
     ]
    }
   ],
   "metadata": {}
  },
  {
   "cell_type": "markdown",
   "source": [
    "#### Step 3: Navigate the JSON response object to access the current price of each coin, and store each in a variable."
   ],
   "metadata": {}
  },
  {
   "cell_type": "code",
   "execution_count": 133,
   "source": [
    "# Navigate the BTC response object to access the current price of BTC\r\n",
    "btc_price = btc_response[\"data\"][\"1\"][\"quotes\"][\"USD\"][\"price\"]\r\n",
    "\r\n",
    "\r\n",
    "# Print the current price of BTC\r\n",
    "print(f\"The current price of BTC is ${btc_price: .2f}\")\r\n"
   ],
   "outputs": [
    {
     "output_type": "stream",
     "name": "stdout",
     "text": [
      "The current price of BTC is $ 34382.00\n"
     ]
    }
   ],
   "metadata": {}
  },
  {
   "cell_type": "code",
   "execution_count": 134,
   "source": [
    "# Navigate the BTC response object to access the current price of ETH\r\n",
    "eth_price = eth_response[\"data\"][\"1027\"][\"quotes\"][\"USD\"][\"price\"]\r\n",
    "\r\n",
    "# Print the current price of ETH\r\n",
    "print(f\"The current price of ETH is ${eth_price: .2f}\")\r\n"
   ],
   "outputs": [
    {
     "output_type": "stream",
     "name": "stdout",
     "text": [
      "The current price of ETH is $ 2154.72\n"
     ]
    }
   ],
   "metadata": {}
  },
  {
   "cell_type": "markdown",
   "source": [
    "### Step 4: Calculate the value, in US dollars, of the current amount of each cryptocurrency and of the entire cryptocurrency wallet."
   ],
   "metadata": {}
  },
  {
   "cell_type": "code",
   "execution_count": 135,
   "source": [
    "# Compute the current value of the BTC holding \r\n",
    "btc_value = btc_coins * btc_price\r\n",
    "\r\n",
    "# Print current value of your holding in BTC\r\n",
    "print(f'Your current value of your BTC holding is ${btc_value: .2f}')\r\n"
   ],
   "outputs": [
    {
     "output_type": "stream",
     "name": "stdout",
     "text": [
      "Your current value of your BTC holding is $ 41258.40\n"
     ]
    }
   ],
   "metadata": {}
  },
  {
   "cell_type": "code",
   "execution_count": 136,
   "source": [
    "# Compute the current value of the ETH holding \r\n",
    "eth_value = eth_coins * eth_price\r\n",
    "\r\n",
    "# Print current value of your holding in ETH\r\n",
    "print(f'Your current value of the ETH your holding is ${eth_value: .2f}')\r\n"
   ],
   "outputs": [
    {
     "output_type": "stream",
     "name": "stdout",
     "text": [
      "Your current value of the ETH your holding is $ 11420.02\n"
     ]
    }
   ],
   "metadata": {}
  },
  {
   "cell_type": "code",
   "execution_count": 137,
   "source": [
    "# Compute the total value of the cryptocurrency wallet\r\n",
    "# Add the value of the BTC holding to the value of the ETH holding\r\n",
    "total_crypto_wallet = btc_value + eth_value\r\n",
    "\r\n",
    "# Print current cryptocurrency wallet balance\r\n",
    "print(f'The total value of the cryptocurrency you hold is ${total_crypto_wallet: .2f}')\r\n"
   ],
   "outputs": [
    {
     "output_type": "stream",
     "name": "stdout",
     "text": [
      "The total value of the cryptocurrency you hold is $ 52678.42\n"
     ]
    }
   ],
   "metadata": {}
  },
  {
   "cell_type": "markdown",
   "source": [
    "### Evaluate the Stock and Bond Holdings by Using the Alpaca SDK\n",
    "\n",
    "In this section, you’ll determine the current value of a member’s stock and bond holdings. You’ll make an API call to Alpaca via the Alpaca SDK to get the current closing prices of the SPDR S&P 500 ETF Trust (ticker: SPY) and of the iShares Core US Aggregate Bond ETF (ticker: AGG). For the prototype, assume that the member holds 110 shares of SPY, which represents the stock portion of their portfolio, and 200 shares of AGG, which represents the bond portion. To do all this, complete the following steps:\n",
    "\n",
    "1. In the `Starter_Code` folder, create an environment file (`.env`) to store the values of your Alpaca API key and Alpaca secret key.\n",
    "\n",
    "2. Set the variables for the Alpaca API and secret keys. Using the Alpaca SDK, create the Alpaca `tradeapi.REST` object. In this object, include the parameters for the Alpaca API key, the secret key, and the version number.\n",
    "\n",
    "3. Set the following parameters for the Alpaca API call:\n",
    "\n",
    "    - `tickers`: Use the tickers for the member’s stock and bond holdings.\n",
    "\n",
    "    - `timeframe`: Use a time frame of one day.\n",
    "\n",
    "    - `start_date` and `end_date`: Use the same date for these parameters, and format them with the date of the previous weekday (or `2020-08-07`). This is because you want the one closing price for the most-recent trading day.\n",
    "\n",
    "4. Get the current closing prices for `SPY` and `AGG` by using the Alpaca `get_barset` function. Format the response as a Pandas DataFrame by including the `df` property at the end of the `get_barset` function.\n",
    "\n",
    "5. Navigating the Alpaca response DataFrame, select the `SPY` and `AGG` closing prices, and store them as variables.\n",
    "\n",
    "6. Calculate the value, in US dollars, of the current amount of shares in each of the stock and bond portions of the portfolio, and print the results.\n"
   ],
   "metadata": {}
  },
  {
   "cell_type": "markdown",
   "source": [
    "#### Review the total number of shares held in both (SPY) and (AGG)."
   ],
   "metadata": {}
  },
  {
   "cell_type": "code",
   "execution_count": 138,
   "source": [
    "# Current amount of shares held in both the stock (SPY) and bond (AGG) portion of the portfolio.\r\n",
    "spy_shares = 110\r\n",
    "agg_shares = 200\r\n"
   ],
   "outputs": [],
   "metadata": {}
  },
  {
   "cell_type": "markdown",
   "source": [
    "#### Step 1: In the `Starter_Code` folder, create an environment file (`.env`) to store the values of your Alpaca API key and Alpaca secret key."
   ],
   "metadata": {}
  },
  {
   "cell_type": "markdown",
   "source": [
    "#### Step 2: Set the variables for the Alpaca API and secret keys. Using the Alpaca SDK, create the Alpaca `tradeapi.REST` object. In this object, include the parameters for the Alpaca API key, the secret key, and the version number."
   ],
   "metadata": {}
  },
  {
   "cell_type": "code",
   "execution_count": 139,
   "source": [
    "# Set the variables for the Alpaca API and secret keys\r\n",
    "alpaca_api_key = os.getenv('ALPACA_API_KEY')\r\n",
    "alpaca_secret_key = os.getenv('ALPACA_SECRET_KEY')\r\n",
    "\r\n",
    "\r\n",
    "# Create the Alpaca tradeapi.REST object\r\n",
    "alpaca = tradeapi.REST(\r\n",
    "    alpaca_api_key,\r\n",
    "    alpaca_secret_key,\r\n",
    "    api_version='v2'\r\n",
    ")\r\n"
   ],
   "outputs": [],
   "metadata": {}
  },
  {
   "cell_type": "markdown",
   "source": [
    "#### Step 3: Set the following parameters for the Alpaca API call:\n",
    "\n",
    "- `tickers`: Use the tickers for the member’s stock and bond holdings.\n",
    "\n",
    "- `timeframe`: Use a time frame of one day.\n",
    "\n",
    "- `start_date` and `end_date`: Use the same date for these parameters, and format them with the date of the previous weekday (or `2020-08-07`). This is because you want the one closing price for the most-recent trading day.\n"
   ],
   "metadata": {}
  },
  {
   "cell_type": "code",
   "execution_count": 140,
   "source": [
    "# Set the tickers for both the bond and stock portion of the portfolio\r\n",
    "tickers = ['SPY', 'AGG']\r\n",
    "\r\n",
    "# Set timeframe to 1D \r\n",
    "timeframe = '1D'\r\n",
    "\r\n",
    "# Format current date as ISO format\r\n",
    "# Set both the start and end date at the date of your prior weekday \r\n",
    "# This will give you the closing price of the previous trading day\r\n",
    "# Alternatively you can use a start and end date of 2020-08-07\r\n",
    "start_date = pd.Timestamp('2021-07-19', tz='America/New_York').isoformat()\r\n",
    "end_date = pd.Timestamp('2021-07-19', tz='America/New_York').isoformat()\r\n",
    "\r\n",
    "\r\n"
   ],
   "outputs": [],
   "metadata": {}
  },
  {
   "cell_type": "markdown",
   "source": [
    "#### Step 4: Get the current closing prices for `SPY` and `AGG` by using the Alpaca `get_barset` function. Format the response as a Pandas DataFrame by including the `df` property at the end of the `get_barset` function."
   ],
   "metadata": {}
  },
  {
   "cell_type": "code",
   "execution_count": 141,
   "source": [
    "# Use the Alpaca get_barset function to get current closing prices the portfolio\r\n",
    "# Be sure to set the `df` property after the function to format the response object as a DataFrame\r\n",
    "closing_prices_df = alpaca.get_barset(\r\n",
    "    tickers,\r\n",
    "    timeframe,\r\n",
    "    start=start_date,\r\n",
    "    end=end_date,\r\n",
    ").df\r\n",
    "\r\n",
    "# Review the first 5 rows of the Alpaca DataFrame\r\n",
    "closing_prices_df.head()\r\n",
    "# confused on why it asks for 5 rows of data from the DataFrame if it asks to pull the data from just one day\r\n"
   ],
   "outputs": [
    {
     "output_type": "execute_result",
     "data": {
      "text/plain": [
       "                              AGG                                        SPY  \\\n",
       "                             open      high     low   close   volume    open   \n",
       "time                                                                           \n",
       "2021-07-19 00:00:00-04:00  116.39  116.6085  116.35  116.52  6476334  426.19   \n",
       "\n",
       "                                                                \n",
       "                               high     low   close     volume  \n",
       "time                                                            \n",
       "2021-07-19 00:00:00-04:00  431.4089  421.97  424.97  127607115  "
      ],
      "text/html": [
       "<div>\n",
       "<style scoped>\n",
       "    .dataframe tbody tr th:only-of-type {\n",
       "        vertical-align: middle;\n",
       "    }\n",
       "\n",
       "    .dataframe tbody tr th {\n",
       "        vertical-align: top;\n",
       "    }\n",
       "\n",
       "    .dataframe thead tr th {\n",
       "        text-align: left;\n",
       "    }\n",
       "\n",
       "    .dataframe thead tr:last-of-type th {\n",
       "        text-align: right;\n",
       "    }\n",
       "</style>\n",
       "<table border=\"1\" class=\"dataframe\">\n",
       "  <thead>\n",
       "    <tr>\n",
       "      <th></th>\n",
       "      <th colspan=\"5\" halign=\"left\">AGG</th>\n",
       "      <th colspan=\"5\" halign=\"left\">SPY</th>\n",
       "    </tr>\n",
       "    <tr>\n",
       "      <th></th>\n",
       "      <th>open</th>\n",
       "      <th>high</th>\n",
       "      <th>low</th>\n",
       "      <th>close</th>\n",
       "      <th>volume</th>\n",
       "      <th>open</th>\n",
       "      <th>high</th>\n",
       "      <th>low</th>\n",
       "      <th>close</th>\n",
       "      <th>volume</th>\n",
       "    </tr>\n",
       "    <tr>\n",
       "      <th>time</th>\n",
       "      <th></th>\n",
       "      <th></th>\n",
       "      <th></th>\n",
       "      <th></th>\n",
       "      <th></th>\n",
       "      <th></th>\n",
       "      <th></th>\n",
       "      <th></th>\n",
       "      <th></th>\n",
       "      <th></th>\n",
       "    </tr>\n",
       "  </thead>\n",
       "  <tbody>\n",
       "    <tr>\n",
       "      <th>2021-07-19 00:00:00-04:00</th>\n",
       "      <td>116.39</td>\n",
       "      <td>116.6085</td>\n",
       "      <td>116.35</td>\n",
       "      <td>116.52</td>\n",
       "      <td>6476334</td>\n",
       "      <td>426.19</td>\n",
       "      <td>431.4089</td>\n",
       "      <td>421.97</td>\n",
       "      <td>424.97</td>\n",
       "      <td>127607115</td>\n",
       "    </tr>\n",
       "  </tbody>\n",
       "</table>\n",
       "</div>"
      ]
     },
     "metadata": {},
     "execution_count": 141
    }
   ],
   "metadata": {}
  },
  {
   "cell_type": "markdown",
   "source": [
    "#### Step 5: Navigating the Alpaca response DataFrame, select the `SPY` and `AGG` closing prices, and store them as variables."
   ],
   "metadata": {}
  },
  {
   "cell_type": "code",
   "execution_count": 142,
   "source": [
    "# Access the closing price for AGG from the Alpaca DataFrame\r\n",
    "# Converting the value to a floating point number\r\n",
    "agg_close_price = float(closing_prices_df['AGG']['close'])\r\n",
    "\r\n",
    "# Print the AGG closing price\r\n",
    "print(f'The closing price of AGG is ${agg_close_price}')\r\n"
   ],
   "outputs": [
    {
     "output_type": "stream",
     "name": "stdout",
     "text": [
      "The closing price of AGG is $116.52\n"
     ]
    }
   ],
   "metadata": {}
  },
  {
   "cell_type": "code",
   "execution_count": 143,
   "source": [
    "# Access the closing price for SPY from the Alpaca DataFrame\r\n",
    "# Converting the value to a floating point number\r\n",
    "spy_close_price = float(closing_prices_df['SPY']['close'])\r\n",
    "\r\n",
    "# Print the SPY closing price\r\n",
    "print(f'The closing price of SPY is ${spy_close_price}')\r\n"
   ],
   "outputs": [
    {
     "output_type": "stream",
     "name": "stdout",
     "text": [
      "The closing price of SPY is $424.97\n"
     ]
    }
   ],
   "metadata": {}
  },
  {
   "cell_type": "markdown",
   "source": [
    "#### Step 6: Calculate the value, in US dollars, of the current amount of shares in each of the stock and bond portions of the portfolio, and print the results."
   ],
   "metadata": {}
  },
  {
   "cell_type": "code",
   "execution_count": 144,
   "source": [
    "# Calculate the current value of the bond portion of the portfolio\r\n",
    "agg_value = agg_shares * agg_close_price\r\n",
    "\r\n",
    "# Print the current value of the bond portfolio\r\n",
    "print(f'The current value of AGG is ${agg_value:.2f}')\r\n"
   ],
   "outputs": [
    {
     "output_type": "stream",
     "name": "stdout",
     "text": [
      "The current value of AGG is $23304.00\n"
     ]
    }
   ],
   "metadata": {}
  },
  {
   "cell_type": "code",
   "execution_count": 145,
   "source": [
    "# Calculate the current value of the stock portion of the portfolio\r\n",
    "spy_value = spy_shares * spy_close_price\r\n",
    "\r\n",
    "# Print the current value of the stock portfolio\r\n",
    "print(f'The current value of SPY is ${spy_value:.2f}')\r\n"
   ],
   "outputs": [
    {
     "output_type": "stream",
     "name": "stdout",
     "text": [
      "The current value of SPY is $46746.70\n"
     ]
    }
   ],
   "metadata": {}
  },
  {
   "cell_type": "code",
   "execution_count": 146,
   "source": [
    "# Calculate the total value of the stock and bond portion of the portfolio\r\n",
    "total_stocks_bonds = spy_value + agg_value\r\n",
    "\r\n",
    "# Print the current balance of the stock and bond portion of the portfolio\r\n",
    "print(f'The current balance of the stock and bond in your portfolio is ${total_stocks_bonds:.2f}')\r\n"
   ],
   "outputs": [
    {
     "output_type": "stream",
     "name": "stdout",
     "text": [
      "The current balance of the stock and bond in your portfolio is $70050.70\n"
     ]
    }
   ],
   "metadata": {}
  },
  {
   "cell_type": "code",
   "execution_count": 147,
   "source": [
    "# Calculate the total value of the member's entire savings portfolio\r\n",
    "# Add the value of the cryptocurrency walled to the value of the total stocks and bonds\r\n",
    "total_portfolio = total_stocks_bonds + total_crypto_wallet\r\n",
    "\r\n",
    "# Print current cryptocurrency wallet balance\r\n",
    "print(f'The total value of the portfolio is ${total_portfolio:.2f}')\r\n"
   ],
   "outputs": [
    {
     "output_type": "stream",
     "name": "stdout",
     "text": [
      "The total value of the portfolio is $122729.12\n"
     ]
    }
   ],
   "metadata": {}
  },
  {
   "cell_type": "markdown",
   "source": [
    "### Evaluate the Emergency Fund\n",
    "\n",
    "In this section, you’ll use the valuations for the cryptocurrency wallet and for the stock and bond portions of the portfolio to determine if the credit union member has enough savings to build an emergency fund into their financial plan. To do this, complete the following steps:\n",
    "\n",
    "1. Create a Python list named `savings_data` that has two elements. The first element contains the total value of the cryptocurrency wallet. The second element contains the total value of the stock and bond portions of the portfolio.\n",
    "\n",
    "2. Use the `savings_data` list to create a Pandas DataFrame named `savings_df`, and then display this DataFrame. The function to create the DataFrame should take the following three parameters:\n",
    "\n",
    "    - `savings_data`: Use the list that you just created.\n",
    "\n",
    "    - `columns`: Set this parameter equal to a Python list with a single value called `amount`.\n",
    "\n",
    "    - `index`: Set this parameter equal to a Python list with the values of `crypto` and `stock/bond`.\n",
    "\n",
    "3. Use the `savings_df` DataFrame to plot a pie chart that visualizes the composition of the member’s portfolio. The y-axis of the pie chart uses `amount`. Be sure to add a title.\n",
    "\n",
    "4. Using Python, determine if the current portfolio has enough to create an emergency fund as part of the member’s financial plan. Ideally, an emergency fund should equal to three times the member’s monthly income. To do this, implement the following steps:\n",
    "\n",
    "    1. Create a variable named `emergency_fund_value`, and set it equal to three times the value of the member’s `monthly_income` of $12000. (You set this earlier in Part 1).\n",
    "\n",
    "    2. Create a series of three if statements to determine if the member’s total portfolio is large enough to fund the emergency portfolio:\n",
    "\n",
    "        1. If the total portfolio value is greater than the emergency fund value, display a message congratulating the member for having enough money in this fund.\n",
    "\n",
    "        2. Else if the total portfolio value is equal to the emergency fund value, display a message congratulating the member on reaching this important financial goal.\n",
    "\n",
    "        3. Else the total portfolio is less than the emergency fund value, so display a message showing how many dollars away the member is from reaching the goal. (Subtract the total portfolio value from the emergency fund value.)\n"
   ],
   "metadata": {}
  },
  {
   "cell_type": "markdown",
   "source": [
    "#### Step 1: Create a Python list named `savings_data` that has two elements. The first element contains the total value of the cryptocurrency wallet. The second element contains the total value of the stock and bond portions of the portfolio."
   ],
   "metadata": {}
  },
  {
   "cell_type": "code",
   "execution_count": 148,
   "source": [
    "# Consolidate financial assets data into a Python list\r\n",
    "savings_data = [total_crypto_wallet, total_stocks_bonds]\r\n",
    "\r\n",
    "\r\n",
    "# Review the Python list savings_data\r\n",
    "savings_data\r\n",
    "    "
   ],
   "outputs": [
    {
     "output_type": "execute_result",
     "data": {
      "text/plain": [
       "[52678.416, 70050.70000000001]"
      ]
     },
     "metadata": {},
     "execution_count": 148
    }
   ],
   "metadata": {}
  },
  {
   "cell_type": "markdown",
   "source": [
    "#### Step 2: Use the `savings_data` list to create a Pandas DataFrame named `savings_df`, and then display this DataFrame. The function to create the DataFrame should take the following three parameters:\n",
    "\n",
    "- `savings_data`: Use the list that you just created.\n",
    "\n",
    "- `columns`: Set this parameter equal to a Python list with a single value called `amount`.\n",
    "\n",
    "- `index`: Set this parameter equal to a Python list with the values of `crypto` and `stock/bond`.\n"
   ],
   "metadata": {}
  },
  {
   "cell_type": "code",
   "execution_count": 149,
   "source": [
    "# Create a Pandas DataFrame called savings_df \r\n",
    "portfolio = ['crypto', 'stock/bond']\r\n",
    "\r\n",
    "saving_df = pd.DataFrame(\r\n",
    "    savings_data,\r\n",
    "    columns=[\"amount\"],\r\n",
    "    index=portfolio\r\n",
    "    )\r\n",
    "\r\n",
    "# Display the savings_df DataFrame\r\n",
    "saving_df\r\n"
   ],
   "outputs": [
    {
     "output_type": "execute_result",
     "data": {
      "text/plain": [
       "               amount\n",
       "crypto      52678.416\n",
       "stock/bond  70050.700"
      ],
      "text/html": [
       "<div>\n",
       "<style scoped>\n",
       "    .dataframe tbody tr th:only-of-type {\n",
       "        vertical-align: middle;\n",
       "    }\n",
       "\n",
       "    .dataframe tbody tr th {\n",
       "        vertical-align: top;\n",
       "    }\n",
       "\n",
       "    .dataframe thead th {\n",
       "        text-align: right;\n",
       "    }\n",
       "</style>\n",
       "<table border=\"1\" class=\"dataframe\">\n",
       "  <thead>\n",
       "    <tr style=\"text-align: right;\">\n",
       "      <th></th>\n",
       "      <th>amount</th>\n",
       "    </tr>\n",
       "  </thead>\n",
       "  <tbody>\n",
       "    <tr>\n",
       "      <th>crypto</th>\n",
       "      <td>52678.416</td>\n",
       "    </tr>\n",
       "    <tr>\n",
       "      <th>stock/bond</th>\n",
       "      <td>70050.700</td>\n",
       "    </tr>\n",
       "  </tbody>\n",
       "</table>\n",
       "</div>"
      ]
     },
     "metadata": {},
     "execution_count": 149
    }
   ],
   "metadata": {}
  },
  {
   "cell_type": "markdown",
   "source": [
    "#### Step 3: Use the `savings_df` DataFrame to plot a pie chart that visualizes the composition of the member’s portfolio. The y-axis of the pie chart uses `amount`. Be sure to add a title."
   ],
   "metadata": {}
  },
  {
   "cell_type": "code",
   "execution_count": 150,
   "source": [
    "# Plot the total value of the member's portfolio (crypto and stock/bond) in a pie chart\r\n",
    "saving_df.plot.pie(title=\"Total Value of member's portfolio\", y='amount')\r\n"
   ],
   "outputs": [
    {
     "output_type": "execute_result",
     "data": {
      "text/plain": [
       "<AxesSubplot:title={'center':\"Total Value of member's portfolio\"}, ylabel='amount'>"
      ]
     },
     "metadata": {},
     "execution_count": 150
    },
    {
     "output_type": "display_data",
     "data": {
      "text/plain": [
       "<Figure size 432x288 with 1 Axes>"
      ],
      "image/png": "[encoded data removed]"
     },
     "metadata": {}
    }
   ],
   "metadata": {}
  },
  {
   "cell_type": "markdown",
   "source": [
    "#### Step 4: Using Python, determine if the current portfolio has enough to create an emergency fund as part of the member’s financial plan. Ideally, an emergency fund should equal to three times the member’s monthly income. To do this, implement the following steps:\n",
    "\n",
    "Step 1. Create a variable named `emergency_fund_value`, and set it equal to three times the value of the member’s `monthly_income` of 12000. (You set this earlier in Part 1).\n",
    "\n",
    "Step 2. Create a series of three if statements to determine if the member’s total portfolio is large enough to fund the emergency portfolio:\n",
    "\n",
    "* If the total portfolio value is greater than the emergency fund value, display a message congratulating the member for having enough money in this fund.\n",
    "\n",
    "* Else if the total portfolio value is equal to the emergency fund value, display a message congratulating the member on reaching this important financial goal.\n",
    "\n",
    "* Else the total portfolio is less than the emergency fund value, so display a message showing how many dollars away the member is from reaching the goal. (Subtract the total portfolio value from the emergency fund value.)\n"
   ],
   "metadata": {}
  },
  {
   "cell_type": "markdown",
   "source": [
    "##### Step 4-1: Create a variable named `emergency_fund_value`, and set it equal to three times the value of the member’s `monthly_income` of 12000. (You set this earlier in Part 1)."
   ],
   "metadata": {}
  },
  {
   "cell_type": "code",
   "execution_count": 151,
   "source": [
    "# Create a variable named emergency_fund_value\r\n",
    "emergency_fund_value = 3 * monthly_income\r\n"
   ],
   "outputs": [],
   "metadata": {}
  },
  {
   "cell_type": "markdown",
   "source": [
    "##### Step 4-2: Create a series of three if statements to determine if the member’s total portfolio is large enough to fund the emergency portfolio:\n",
    "\n",
    "* If the total portfolio value is greater than the emergency fund value, display a message congratulating the member for having enough money in this fund.\n",
    "\n",
    "* Else if the total portfolio value is equal to the emergency fund value, display a message congratulating the member on reaching this important financial goal.\n",
    "\n",
    "* Else the total portfolio is less than the emergency fund value, so display a message showing how many dollars away the member is from reaching the goal. (Subtract the total portfolio value from the emergency fund value.)"
   ],
   "metadata": {}
  },
  {
   "cell_type": "code",
   "execution_count": 152,
   "source": [
    "# Evaluate the possibility of creating an emergency fund with 3 conditions:\r\n",
    "if total_portfolio > emergency_fund_value:\r\n",
    "    print(f'Congratulations on having enough money in this fund!')\r\n",
    "\r\n",
    "elif total_portfolio == emergency_fund_value:\r\n",
    "    print(f'Congratulations for reaching such an important financial goal!')\r\n",
    "\r\n",
    "else:\r\n",
    "    print(f'Your only ${emergency_fund_value - total_portfolio}')\r\n"
   ],
   "outputs": [
    {
     "output_type": "stream",
     "name": "stdout",
     "text": [
      "Congratulations on having enough money in this fund!\n"
     ]
    }
   ],
   "metadata": {}
  },
  {
   "cell_type": "markdown",
   "source": [
    "### Create the Monte Carlo Simulation\r\n",
    "\r\n",
    "In this section, you’ll use the MCForecastTools library to create a Monte Carlo simulation for the member’s savings portfolio. To do this, complete the following steps:\r\n",
    "\r\n",
    "1. Make an API call via the Alpaca SDK to get 3 years of historical closing prices for a traditional 60/40 portfolio split: 60% stocks (SPY) and 40% bonds (AGG).\r\n",
    "\r\n",
    "2. Run a Monte Carlo simulation of 500 samples and 30 years for the 60/40 portfolio, and then plot the results.The following image shows the overlay line plot resulting from a simulation with these characteristics. However, because a random number generator is used to run each live Monte Carlo simulation, your image will differ slightly from this exact image:\r\n",
    "\r\n",
    "![A screenshot depicts the resulting plot.](Images/5-4-monte-carlo-line-plot.png)\r\n",
    "\r\n",
    "3. Plot the probability distribution of the Monte Carlo simulation. Plot the probability distribution of the Monte Carlo simulation. The following image shows the histogram plot resulting from a simulation with these characteristics. However, because a random number generator is used to run each live Monte Carlo simulation, your image will differ slightly from this exact image:\r\n",
    "\r\n",
    "![A screenshot depicts the histogram plot.](Images/5-4-monte-carlo-histogram.png)\r\n",
    "\r\n",
    "4. Generate the summary statistics for the Monte Carlo simulation.\r\n",
    "\r\n"
   ],
   "metadata": {}
  },
  {
   "cell_type": "markdown",
   "source": [
    "#### Step 1: Make an API call via the Alpaca SDK to get 3 years of historical closing prices for a traditional 60/40 portfolio split: 60% stocks (SPY) and 40% bonds (AGG)."
   ],
   "metadata": {}
  },
  {
   "cell_type": "code",
   "execution_count": 153,
   "source": [
    "# Set start and end dates of 3 years back from your current date\r\n",
    "# Alternatively, you can use an end date of 2020-08-07 and work 3 years back from that date \r\n",
    "start_date_3_years = pd.Timestamp('2020-08-07', tz='America/New_York').isoformat\r\n",
    "end_date_3_years = pd.Timestamp('2017-08-07', tz='America/New_York').isoformat\r\n",
    "\r\n",
    "# Set number of rows to 1000 to retrieve the maximum amount of rows\r\n",
    "limit_rows = 1000"
   ],
   "outputs": [],
   "metadata": {}
  },
  {
   "cell_type": "markdown",
   "source": [
    "## Part 2: Create a Financial Planner for Retirement"
   ],
   "metadata": {}
  },
  {
   "cell_type": "code",
   "execution_count": 154,
   "source": [
    "# Use the Alpaca get_barset function to make the API call to get the 3 years worth of pricing data\r\n",
    "# The tickers and timeframe parameters should have been set in Part 1 of this activity \r\n",
    "# The start and end dates should be updated with the information set above\r\n",
    "# Remember to add the df property to the end of the call so the response is returned as a DataFrame\r\n",
    "pricing_data_3_years_df = alpaca.get_barset(\r\n",
    "    tickers,\r\n",
    "    timeframe,\r\n",
    "    start=start_date_3_years,\r\n",
    "    end=end_date_3_years,\r\n",
    "    \r\n",
    ").df\r\n",
    "\r\n",
    "\r\n",
    "# Display both the first and last five rows of the DataFrame\r\n",
    "display(pricing_data_3_years_df.head())\r\n",
    "display(pricing_data_3_years_df.tail())"
   ],
   "outputs": [
    {
     "output_type": "display_data",
     "data": {
      "text/plain": [
       "                              AGG                                         SPY  \\\n",
       "                             open      high     low    close   volume    open   \n",
       "time                                                                            \n",
       "2021-03-03 00:00:00-05:00  114.80  114.8300  114.60  114.710  9720752  385.79   \n",
       "2021-03-04 00:00:00-05:00  114.79  114.8000  114.26  114.360  5239421  381.22   \n",
       "2021-03-05 00:00:00-05:00  114.17  114.3197  114.05  114.285  6190988  380.46   \n",
       "2021-03-08 00:00:00-05:00  114.20  114.2300  113.83  113.840  5213848  384.66   \n",
       "2021-03-09 00:00:00-05:00  114.20  114.3100  114.00  114.250  5074245  385.85   \n",
       "\n",
       "                                                                 \n",
       "                             high       low    close     volume  \n",
       "time                                                             \n",
       "2021-03-03 00:00:00-05:00  386.83  381.3100  381.450  105013641  \n",
       "2021-03-04 00:00:00-05:00  384.00  371.8800  376.730  168203161  \n",
       "2021-03-05 00:00:00-05:00  384.76  372.6400  383.595  133661539  \n",
       "2021-03-08 00:00:00-05:00  387.68  381.4200  381.740  107185328  \n",
       "2021-03-09 00:00:00-05:00  389.91  381.7299  387.110   97898909  "
      ],
      "text/html": [
       "<div>\n",
       "<style scoped>\n",
       "    .dataframe tbody tr th:only-of-type {\n",
       "        vertical-align: middle;\n",
       "    }\n",
       "\n",
       "    .dataframe tbody tr th {\n",
       "        vertical-align: top;\n",
       "    }\n",
       "\n",
       "    .dataframe thead tr th {\n",
       "        text-align: left;\n",
       "    }\n",
       "\n",
       "    .dataframe thead tr:last-of-type th {\n",
       "        text-align: right;\n",
       "    }\n",
       "</style>\n",
       "<table border=\"1\" class=\"dataframe\">\n",
       "  <thead>\n",
       "    <tr>\n",
       "      <th></th>\n",
       "      <th colspan=\"5\" halign=\"left\">AGG</th>\n",
       "      <th colspan=\"5\" halign=\"left\">SPY</th>\n",
       "    </tr>\n",
       "    <tr>\n",
       "      <th></th>\n",
       "      <th>open</th>\n",
       "      <th>high</th>\n",
       "      <th>low</th>\n",
       "      <th>close</th>\n",
       "      <th>volume</th>\n",
       "      <th>open</th>\n",
       "      <th>high</th>\n",
       "      <th>low</th>\n",
       "      <th>close</th>\n",
       "      <th>volume</th>\n",
       "    </tr>\n",
       "    <tr>\n",
       "      <th>time</th>\n",
       "      <th></th>\n",
       "      <th></th>\n",
       "      <th></th>\n",
       "      <th></th>\n",
       "      <th></th>\n",
       "      <th></th>\n",
       "      <th></th>\n",
       "      <th></th>\n",
       "      <th></th>\n",
       "      <th></th>\n",
       "    </tr>\n",
       "  </thead>\n",
       "  <tbody>\n",
       "    <tr>\n",
       "      <th>2021-03-03 00:00:00-05:00</th>\n",
       "      <td>114.80</td>\n",
       "      <td>114.8300</td>\n",
       "      <td>114.60</td>\n",
       "      <td>114.710</td>\n",
       "      <td>9720752</td>\n",
       "      <td>385.79</td>\n",
       "      <td>386.83</td>\n",
       "      <td>381.3100</td>\n",
       "      <td>381.450</td>\n",
       "      <td>105013641</td>\n",
       "    </tr>\n",
       "    <tr>\n",
       "      <th>2021-03-04 00:00:00-05:00</th>\n",
       "      <td>114.79</td>\n",
       "      <td>114.8000</td>\n",
       "      <td>114.26</td>\n",
       "      <td>114.360</td>\n",
       "      <td>5239421</td>\n",
       "      <td>381.22</td>\n",
       "      <td>384.00</td>\n",
       "      <td>371.8800</td>\n",
       "      <td>376.730</td>\n",
       "      <td>168203161</td>\n",
       "    </tr>\n",
       "    <tr>\n",
       "      <th>2021-03-05 00:00:00-05:00</th>\n",
       "      <td>114.17</td>\n",
       "      <td>114.3197</td>\n",
       "      <td>114.05</td>\n",
       "      <td>114.285</td>\n",
       "      <td>6190988</td>\n",
       "      <td>380.46</td>\n",
       "      <td>384.76</td>\n",
       "      <td>372.6400</td>\n",
       "      <td>383.595</td>\n",
       "      <td>133661539</td>\n",
       "    </tr>\n",
       "    <tr>\n",
       "      <th>2021-03-08 00:00:00-05:00</th>\n",
       "      <td>114.20</td>\n",
       "      <td>114.2300</td>\n",
       "      <td>113.83</td>\n",
       "      <td>113.840</td>\n",
       "      <td>5213848</td>\n",
       "      <td>384.66</td>\n",
       "      <td>387.68</td>\n",
       "      <td>381.4200</td>\n",
       "      <td>381.740</td>\n",
       "      <td>107185328</td>\n",
       "    </tr>\n",
       "    <tr>\n",
       "      <th>2021-03-09 00:00:00-05:00</th>\n",
       "      <td>114.20</td>\n",
       "      <td>114.3100</td>\n",
       "      <td>114.00</td>\n",
       "      <td>114.250</td>\n",
       "      <td>5074245</td>\n",
       "      <td>385.85</td>\n",
       "      <td>389.91</td>\n",
       "      <td>381.7299</td>\n",
       "      <td>387.110</td>\n",
       "      <td>97898909</td>\n",
       "    </tr>\n",
       "  </tbody>\n",
       "</table>\n",
       "</div>"
      ]
     },
     "metadata": {}
    },
    {
     "output_type": "display_data",
     "data": {
      "text/plain": [
       "                               AGG                                        SPY  \\\n",
       "                              open      high     low   close   volume    open   \n",
       "time                                                                            \n",
       "2021-07-19 00:00:00-04:00  116.390  116.6085  116.35  116.52  6476334  426.19   \n",
       "2021-07-20 00:00:00-04:00  116.780  116.8200  116.32  116.39  7229222  425.68   \n",
       "2021-07-21 00:00:00-04:00  116.075  116.1500  115.92  116.02  7773071  432.34   \n",
       "2021-07-22 00:00:00-04:00  116.030  116.3500  116.03  116.29  6269656  434.74   \n",
       "2021-07-23 00:00:00-04:00  116.030  116.2200  116.03  116.21  4137100  437.53   \n",
       "\n",
       "                                                                  \n",
       "                               high       low   close     volume  \n",
       "time                                                              \n",
       "2021-07-19 00:00:00-04:00  431.4089  421.9700  424.97  127607115  \n",
       "2021-07-20 00:00:00-04:00  432.4200  424.8300  431.04   87430308  \n",
       "2021-07-21 00:00:00-04:00  434.7000  431.0111  434.56   54251351  \n",
       "2021-07-22 00:00:00-04:00  435.7200  433.6900  435.50   41998182  \n",
       "2021-07-23 00:00:00-04:00  440.3000  436.7900  439.90   53294703  "
      ],
      "text/html": [
       "<div>\n",
       "<style scoped>\n",
       "    .dataframe tbody tr th:only-of-type {\n",
       "        vertical-align: middle;\n",
       "    }\n",
       "\n",
       "    .dataframe tbody tr th {\n",
       "        vertical-align: top;\n",
       "    }\n",
       "\n",
       "    .dataframe thead tr th {\n",
       "        text-align: left;\n",
       "    }\n",
       "\n",
       "    .dataframe thead tr:last-of-type th {\n",
       "        text-align: right;\n",
       "    }\n",
       "</style>\n",
       "<table border=\"1\" class=\"dataframe\">\n",
       "  <thead>\n",
       "    <tr>\n",
       "      <th></th>\n",
       "      <th colspan=\"5\" halign=\"left\">AGG</th>\n",
       "      <th colspan=\"5\" halign=\"left\">SPY</th>\n",
       "    </tr>\n",
       "    <tr>\n",
       "      <th></th>\n",
       "      <th>open</th>\n",
       "      <th>high</th>\n",
       "      <th>low</th>\n",
       "      <th>close</th>\n",
       "      <th>volume</th>\n",
       "      <th>open</th>\n",
       "      <th>high</th>\n",
       "      <th>low</th>\n",
       "      <th>close</th>\n",
       "      <th>volume</th>\n",
       "    </tr>\n",
       "    <tr>\n",
       "      <th>time</th>\n",
       "      <th></th>\n",
       "      <th></th>\n",
       "      <th></th>\n",
       "      <th></th>\n",
       "      <th></th>\n",
       "      <th></th>\n",
       "      <th></th>\n",
       "      <th></th>\n",
       "      <th></th>\n",
       "      <th></th>\n",
       "    </tr>\n",
       "  </thead>\n",
       "  <tbody>\n",
       "    <tr>\n",
       "      <th>2021-07-19 00:00:00-04:00</th>\n",
       "      <td>116.390</td>\n",
       "      <td>116.6085</td>\n",
       "      <td>116.35</td>\n",
       "      <td>116.52</td>\n",
       "      <td>6476334</td>\n",
       "      <td>426.19</td>\n",
       "      <td>431.4089</td>\n",
       "      <td>421.9700</td>\n",
       "      <td>424.97</td>\n",
       "      <td>127607115</td>\n",
       "    </tr>\n",
       "    <tr>\n",
       "      <th>2021-07-20 00:00:00-04:00</th>\n",
       "      <td>116.780</td>\n",
       "      <td>116.8200</td>\n",
       "      <td>116.32</td>\n",
       "      <td>116.39</td>\n",
       "      <td>7229222</td>\n",
       "      <td>425.68</td>\n",
       "      <td>432.4200</td>\n",
       "      <td>424.8300</td>\n",
       "      <td>431.04</td>\n",
       "      <td>87430308</td>\n",
       "    </tr>\n",
       "    <tr>\n",
       "      <th>2021-07-21 00:00:00-04:00</th>\n",
       "      <td>116.075</td>\n",
       "      <td>116.1500</td>\n",
       "      <td>115.92</td>\n",
       "      <td>116.02</td>\n",
       "      <td>7773071</td>\n",
       "      <td>432.34</td>\n",
       "      <td>434.7000</td>\n",
       "      <td>431.0111</td>\n",
       "      <td>434.56</td>\n",
       "      <td>54251351</td>\n",
       "    </tr>\n",
       "    <tr>\n",
       "      <th>2021-07-22 00:00:00-04:00</th>\n",
       "      <td>116.030</td>\n",
       "      <td>116.3500</td>\n",
       "      <td>116.03</td>\n",
       "      <td>116.29</td>\n",
       "      <td>6269656</td>\n",
       "      <td>434.74</td>\n",
       "      <td>435.7200</td>\n",
       "      <td>433.6900</td>\n",
       "      <td>435.50</td>\n",
       "      <td>41998182</td>\n",
       "    </tr>\n",
       "    <tr>\n",
       "      <th>2021-07-23 00:00:00-04:00</th>\n",
       "      <td>116.030</td>\n",
       "      <td>116.2200</td>\n",
       "      <td>116.03</td>\n",
       "      <td>116.21</td>\n",
       "      <td>4137100</td>\n",
       "      <td>437.53</td>\n",
       "      <td>440.3000</td>\n",
       "      <td>436.7900</td>\n",
       "      <td>439.90</td>\n",
       "      <td>53294703</td>\n",
       "    </tr>\n",
       "  </tbody>\n",
       "</table>\n",
       "</div>"
      ]
     },
     "metadata": {}
    }
   ],
   "metadata": {}
  },
  {
   "cell_type": "markdown",
   "source": [
    "#### Step 2: Run a Monte Carlo simulation of 500 samples and 30 years for the 60/40 portfolio, and then plot the results."
   ],
   "metadata": {}
  },
  {
   "cell_type": "code",
   "execution_count": 159,
   "source": [
    "# Configure the Monte Carlo simulation to forecast 30 years cumulative returns\r\n",
    "# The weights should be split 40% to AGG and 60% to SPY.\r\n",
    "# Run 500 samples.\r\n",
    "MC_thirty_years = MCSimulation(\r\n",
    "    portfolio_data=pricing_data_3_years_df,\r\n",
    "    weights=[.40,.60],\r\n",
    "    num_simulation=500,\r\n",
    "    num_trading_days=252*30\r\n",
    ")\r\n",
    "\r\n",
    "# Review the simulation input data\r\n",
    "MC_thirty_years.portfolio_data.head()"
   ],
   "outputs": [
    {
     "output_type": "execute_result",
     "data": {
      "text/plain": [
       "                              AGG                                      \\\n",
       "                             open      high     low    close   volume   \n",
       "time                                                                    \n",
       "2021-03-03 00:00:00-05:00  114.80  114.8300  114.60  114.710  9720752   \n",
       "2021-03-04 00:00:00-05:00  114.79  114.8000  114.26  114.360  5239421   \n",
       "2021-03-05 00:00:00-05:00  114.17  114.3197  114.05  114.285  6190988   \n",
       "2021-03-08 00:00:00-05:00  114.20  114.2300  113.83  113.840  5213848   \n",
       "2021-03-09 00:00:00-05:00  114.20  114.3100  114.00  114.250  5074245   \n",
       "\n",
       "                                           SPY                             \\\n",
       "                          daily_return    open    high       low    close   \n",
       "time                                                                        \n",
       "2021-03-03 00:00:00-05:00          NaN  385.79  386.83  381.3100  381.450   \n",
       "2021-03-04 00:00:00-05:00    -0.003051  381.22  384.00  371.8800  376.730   \n",
       "2021-03-05 00:00:00-05:00    -0.000656  380.46  384.76  372.6400  383.595   \n",
       "2021-03-08 00:00:00-05:00    -0.003894  384.66  387.68  381.4200  381.740   \n",
       "2021-03-09 00:00:00-05:00     0.003602  385.85  389.91  381.7299  387.110   \n",
       "\n",
       "                                                   \n",
       "                              volume daily_return  \n",
       "time                                               \n",
       "2021-03-03 00:00:00-05:00  105013641          NaN  \n",
       "2021-03-04 00:00:00-05:00  168203161    -0.012374  \n",
       "2021-03-05 00:00:00-05:00  133661539     0.018223  \n",
       "2021-03-08 00:00:00-05:00  107185328    -0.004836  \n",
       "2021-03-09 00:00:00-05:00   97898909     0.014067  "
      ],
      "text/html": [
       "<div>\n",
       "<style scoped>\n",
       "    .dataframe tbody tr th:only-of-type {\n",
       "        vertical-align: middle;\n",
       "    }\n",
       "\n",
       "    .dataframe tbody tr th {\n",
       "        vertical-align: top;\n",
       "    }\n",
       "\n",
       "    .dataframe thead tr th {\n",
       "        text-align: left;\n",
       "    }\n",
       "\n",
       "    .dataframe thead tr:last-of-type th {\n",
       "        text-align: right;\n",
       "    }\n",
       "</style>\n",
       "<table border=\"1\" class=\"dataframe\">\n",
       "  <thead>\n",
       "    <tr>\n",
       "      <th></th>\n",
       "      <th colspan=\"6\" halign=\"left\">AGG</th>\n",
       "      <th colspan=\"6\" halign=\"left\">SPY</th>\n",
       "    </tr>\n",
       "    <tr>\n",
       "      <th></th>\n",
       "      <th>open</th>\n",
       "      <th>high</th>\n",
       "      <th>low</th>\n",
       "      <th>close</th>\n",
       "      <th>volume</th>\n",
       "      <th>daily_return</th>\n",
       "      <th>open</th>\n",
       "      <th>high</th>\n",
       "      <th>low</th>\n",
       "      <th>close</th>\n",
       "      <th>volume</th>\n",
       "      <th>daily_return</th>\n",
       "    </tr>\n",
       "    <tr>\n",
       "      <th>time</th>\n",
       "      <th></th>\n",
       "      <th></th>\n",
       "      <th></th>\n",
       "      <th></th>\n",
       "      <th></th>\n",
       "      <th></th>\n",
       "      <th></th>\n",
       "      <th></th>\n",
       "      <th></th>\n",
       "      <th></th>\n",
       "      <th></th>\n",
       "      <th></th>\n",
       "    </tr>\n",
       "  </thead>\n",
       "  <tbody>\n",
       "    <tr>\n",
       "      <th>2021-03-03 00:00:00-05:00</th>\n",
       "      <td>114.80</td>\n",
       "      <td>114.8300</td>\n",
       "      <td>114.60</td>\n",
       "      <td>114.710</td>\n",
       "      <td>9720752</td>\n",
       "      <td>NaN</td>\n",
       "      <td>385.79</td>\n",
       "      <td>386.83</td>\n",
       "      <td>381.3100</td>\n",
       "      <td>381.450</td>\n",
       "      <td>105013641</td>\n",
       "      <td>NaN</td>\n",
       "    </tr>\n",
       "    <tr>\n",
       "      <th>2021-03-04 00:00:00-05:00</th>\n",
       "      <td>114.79</td>\n",
       "      <td>114.8000</td>\n",
       "      <td>114.26</td>\n",
       "      <td>114.360</td>\n",
       "      <td>5239421</td>\n",
       "      <td>-0.003051</td>\n",
       "      <td>381.22</td>\n",
       "      <td>384.00</td>\n",
       "      <td>371.8800</td>\n",
       "      <td>376.730</td>\n",
       "      <td>168203161</td>\n",
       "      <td>-0.012374</td>\n",
       "    </tr>\n",
       "    <tr>\n",
       "      <th>2021-03-05 00:00:00-05:00</th>\n",
       "      <td>114.17</td>\n",
       "      <td>114.3197</td>\n",
       "      <td>114.05</td>\n",
       "      <td>114.285</td>\n",
       "      <td>6190988</td>\n",
       "      <td>-0.000656</td>\n",
       "      <td>380.46</td>\n",
       "      <td>384.76</td>\n",
       "      <td>372.6400</td>\n",
       "      <td>383.595</td>\n",
       "      <td>133661539</td>\n",
       "      <td>0.018223</td>\n",
       "    </tr>\n",
       "    <tr>\n",
       "      <th>2021-03-08 00:00:00-05:00</th>\n",
       "      <td>114.20</td>\n",
       "      <td>114.2300</td>\n",
       "      <td>113.83</td>\n",
       "      <td>113.840</td>\n",
       "      <td>5213848</td>\n",
       "      <td>-0.003894</td>\n",
       "      <td>384.66</td>\n",
       "      <td>387.68</td>\n",
       "      <td>381.4200</td>\n",
       "      <td>381.740</td>\n",
       "      <td>107185328</td>\n",
       "      <td>-0.004836</td>\n",
       "    </tr>\n",
       "    <tr>\n",
       "      <th>2021-03-09 00:00:00-05:00</th>\n",
       "      <td>114.20</td>\n",
       "      <td>114.3100</td>\n",
       "      <td>114.00</td>\n",
       "      <td>114.250</td>\n",
       "      <td>5074245</td>\n",
       "      <td>0.003602</td>\n",
       "      <td>385.85</td>\n",
       "      <td>389.91</td>\n",
       "      <td>381.7299</td>\n",
       "      <td>387.110</td>\n",
       "      <td>97898909</td>\n",
       "      <td>0.014067</td>\n",
       "    </tr>\n",
       "  </tbody>\n",
       "</table>\n",
       "</div>"
      ]
     },
     "metadata": {},
     "execution_count": 159
    }
   ],
   "metadata": {}
  },
  {
   "cell_type": "code",
   "execution_count": 160,
   "source": [
    "# Run the Monte Carlo simulation to forecast 30 years cumulative returns\r\n",
    "MC_thirty_years.calc_cumulative_return()\r\n"
   ],
   "outputs": [
    {
     "output_type": "stream",
     "name": "stdout",
     "text": [
      "Running Monte Carlo simulation number 0.\n",
      "Running Monte Carlo simulation number 10.\n",
      "Running Monte Carlo simulation number 20.\n",
      "Running Monte Carlo simulation number 30.\n",
      "Running Monte Carlo simulation number 40.\n",
      "Running Monte Carlo simulation number 50.\n",
      "Running Monte Carlo simulation number 60.\n",
      "Running Monte Carlo simulation number 70.\n",
      "Running Monte Carlo simulation number 80.\n",
      "Running Monte Carlo simulation number 90.\n",
      "Running Monte Carlo simulation number 100.\n",
      "Running Monte Carlo simulation number 110.\n",
      "Running Monte Carlo simulation number 120.\n",
      "Running Monte Carlo simulation number 130.\n",
      "Running Monte Carlo simulation number 140.\n",
      "Running Monte Carlo simulation number 150.\n",
      "Running Monte Carlo simulation number 160.\n",
      "Running Monte Carlo simulation number 170.\n",
      "Running Monte Carlo simulation number 180.\n",
      "Running Monte Carlo simulation number 190.\n",
      "Running Monte Carlo simulation number 200.\n",
      "Running Monte Carlo simulation number 210.\n",
      "Running Monte Carlo simulation number 220.\n",
      "Running Monte Carlo simulation number 230.\n",
      "Running Monte Carlo simulation number 240.\n",
      "Running Monte Carlo simulation number 250.\n",
      "Running Monte Carlo simulation number 260.\n",
      "Running Monte Carlo simulation number 270.\n",
      "Running Monte Carlo simulation number 280.\n",
      "Running Monte Carlo simulation number 290.\n",
      "Running Monte Carlo simulation number 300.\n",
      "Running Monte Carlo simulation number 310.\n",
      "Running Monte Carlo simulation number 320.\n",
      "Running Monte Carlo simulation number 330.\n",
      "Running Monte Carlo simulation number 340.\n",
      "Running Monte Carlo simulation number 350.\n",
      "Running Monte Carlo simulation number 360.\n",
      "Running Monte Carlo simulation number 370.\n",
      "Running Monte Carlo simulation number 380.\n",
      "Running Monte Carlo simulation number 390.\n",
      "Running Monte Carlo simulation number 400.\n",
      "Running Monte Carlo simulation number 410.\n",
      "Running Monte Carlo simulation number 420.\n",
      "Running Monte Carlo simulation number 430.\n",
      "Running Monte Carlo simulation number 440.\n",
      "Running Monte Carlo simulation number 450.\n",
      "Running Monte Carlo simulation number 460.\n",
      "Running Monte Carlo simulation number 470.\n",
      "Running Monte Carlo simulation number 480.\n",
      "Running Monte Carlo simulation number 490.\n"
     ]
    },
    {
     "output_type": "execute_result",
     "data": {
      "text/plain": [
       "             0            1            2            3            4    \\\n",
       "0       1.000000     1.000000     1.000000     1.000000     1.000000   \n",
       "1       1.003260     1.007133     0.993640     1.003879     1.000227   \n",
       "2       1.016093     1.012208     0.988467     1.005454     0.999003   \n",
       "3       1.026583     1.016158     0.990275     1.010093     1.007575   \n",
       "4       1.027543     1.023023     0.993082     1.010707     1.007880   \n",
       "...          ...          ...          ...          ...          ...   \n",
       "7556  729.776113  1067.412511  2010.864447  1610.925769  1643.870789   \n",
       "7557  729.408669  1072.428245  2015.897811  1601.838195  1641.669999   \n",
       "7558  731.092665  1074.747235  2011.230224  1594.308806  1642.523359   \n",
       "7559  734.453439  1081.067074  2017.504568  1590.007294  1645.465225   \n",
       "7560  734.187354  1094.208561  2024.526828  1589.801362  1641.492607   \n",
       "\n",
       "             5            6            7           8           9    ...  \\\n",
       "0       1.000000     1.000000     1.000000    1.000000    1.000000  ...   \n",
       "1       0.997069     0.996055     1.006650    1.001735    0.998228  ...   \n",
       "2       0.990488     0.995373     1.008952    0.999911    1.002860  ...   \n",
       "3       0.990349     0.998855     1.009714    1.004740    0.996888  ...   \n",
       "4       0.992560     0.999229     1.010509    1.006035    0.997289  ...   \n",
       "...          ...          ...          ...         ...         ...  ...   \n",
       "7556  618.010200  1149.227770  1118.435985  964.678889  859.315872  ...   \n",
       "7557  614.925270  1149.857304  1119.255504  961.225438  864.745337  ...   \n",
       "7558  616.546137  1142.469307  1117.793472  964.470993  867.290953  ...   \n",
       "7559  621.193532  1150.765930  1119.999314  964.848471  868.063099  ...   \n",
       "7560  625.652652  1143.517980  1119.329579  958.471752  864.754654  ...   \n",
       "\n",
       "              490          491          492          493         494  \\\n",
       "0        1.000000     1.000000     1.000000     1.000000    1.000000   \n",
       "1        0.998872     1.016364     1.002174     0.999996    1.007229   \n",
       "2        0.999340     1.022113     1.000423     1.000960    1.005521   \n",
       "3        0.995951     1.024635     1.001104     1.002228    1.007354   \n",
       "4        1.003346     1.031881     0.998225     1.004064    1.002672   \n",
       "...           ...          ...          ...          ...         ...   \n",
       "7556  1102.947608  1830.184871  1257.256876  1926.810180  862.059733   \n",
       "7557  1100.286851  1821.549194  1262.908955  1935.001267  864.325624   \n",
       "7558  1100.322964  1817.964277  1250.984550  1930.813875  863.807934   \n",
       "7559  1102.579571  1814.951497  1244.841166  1935.061907  861.132084   \n",
       "7560  1107.324227  1799.914680  1239.135699  1919.904076  864.259970   \n",
       "\n",
       "             495          496         497          498          499  \n",
       "0       1.000000     1.000000    1.000000     1.000000     1.000000  \n",
       "1       0.999764     1.001756    1.008718     1.002137     1.002572  \n",
       "2       1.003652     0.995016    1.006630     0.996635     1.002564  \n",
       "3       1.002932     0.998402    1.001383     0.992956     1.000512  \n",
       "4       0.996163     0.999944    1.000924     0.992559     1.000841  \n",
       "...          ...          ...         ...          ...          ...  \n",
       "7556  938.778208  1589.698513  508.366182  1283.780532  2494.999449  \n",
       "7557  932.589119  1588.538542  507.300434  1290.986781  2502.201817  \n",
       "7558  933.149699  1588.784588  508.475830  1288.774230  2504.807755  \n",
       "7559  936.771701  1585.901979  506.975348  1291.847294  2504.116135  \n",
       "7560  933.034033  1574.410149  505.050106  1283.392073  2512.337898  \n",
       "\n",
       "[7561 rows x 500 columns]"
      ],
      "text/html": [
       "<div>\n",
       "<style scoped>\n",
       "    .dataframe tbody tr th:only-of-type {\n",
       "        vertical-align: middle;\n",
       "    }\n",
       "\n",
       "    .dataframe tbody tr th {\n",
       "        vertical-align: top;\n",
       "    }\n",
       "\n",
       "    .dataframe thead th {\n",
       "        text-align: right;\n",
       "    }\n",
       "</style>\n",
       "<table border=\"1\" class=\"dataframe\">\n",
       "  <thead>\n",
       "    <tr style=\"text-align: right;\">\n",
       "      <th></th>\n",
       "      <th>0</th>\n",
       "      <th>1</th>\n",
       "      <th>2</th>\n",
       "      <th>3</th>\n",
       "      <th>4</th>\n",
       "      <th>5</th>\n",
       "      <th>6</th>\n",
       "      <th>7</th>\n",
       "      <th>8</th>\n",
       "      <th>9</th>\n",
       "      <th>...</th>\n",
       "      <th>490</th>\n",
       "      <th>491</th>\n",
       "      <th>492</th>\n",
       "      <th>493</th>\n",
       "      <th>494</th>\n",
       "      <th>495</th>\n",
       "      <th>496</th>\n",
       "      <th>497</th>\n",
       "      <th>498</th>\n",
       "      <th>499</th>\n",
       "    </tr>\n",
       "  </thead>\n",
       "  <tbody>\n",
       "    <tr>\n",
       "      <th>0</th>\n",
       "      <td>1.000000</td>\n",
       "      <td>1.000000</td>\n",
       "      <td>1.000000</td>\n",
       "      <td>1.000000</td>\n",
       "      <td>1.000000</td>\n",
       "      <td>1.000000</td>\n",
       "      <td>1.000000</td>\n",
       "      <td>1.000000</td>\n",
       "      <td>1.000000</td>\n",
       "      <td>1.000000</td>\n",
       "      <td>...</td>\n",
       "      <td>1.000000</td>\n",
       "      <td>1.000000</td>\n",
       "      <td>1.000000</td>\n",
       "      <td>1.000000</td>\n",
       "      <td>1.000000</td>\n",
       "      <td>1.000000</td>\n",
       "      <td>1.000000</td>\n",
       "      <td>1.000000</td>\n",
       "      <td>1.000000</td>\n",
       "      <td>1.000000</td>\n",
       "    </tr>\n",
       "    <tr>\n",
       "      <th>1</th>\n",
       "      <td>1.003260</td>\n",
       "      <td>1.007133</td>\n",
       "      <td>0.993640</td>\n",
       "      <td>1.003879</td>\n",
       "      <td>1.000227</td>\n",
       "      <td>0.997069</td>\n",
       "      <td>0.996055</td>\n",
       "      <td>1.006650</td>\n",
       "      <td>1.001735</td>\n",
       "      <td>0.998228</td>\n",
       "      <td>...</td>\n",
       "      <td>0.998872</td>\n",
       "      <td>1.016364</td>\n",
       "      <td>1.002174</td>\n",
       "      <td>0.999996</td>\n",
       "      <td>1.007229</td>\n",
       "      <td>0.999764</td>\n",
       "      <td>1.001756</td>\n",
       "      <td>1.008718</td>\n",
       "      <td>1.002137</td>\n",
       "      <td>1.002572</td>\n",
       "    </tr>\n",
       "    <tr>\n",
       "      <th>2</th>\n",
       "      <td>1.016093</td>\n",
       "      <td>1.012208</td>\n",
       "      <td>0.988467</td>\n",
       "      <td>1.005454</td>\n",
       "      <td>0.999003</td>\n",
       "      <td>0.990488</td>\n",
       "      <td>0.995373</td>\n",
       "      <td>1.008952</td>\n",
       "      <td>0.999911</td>\n",
       "      <td>1.002860</td>\n",
       "      <td>...</td>\n",
       "      <td>0.999340</td>\n",
       "      <td>1.022113</td>\n",
       "      <td>1.000423</td>\n",
       "      <td>1.000960</td>\n",
       "      <td>1.005521</td>\n",
       "      <td>1.003652</td>\n",
       "      <td>0.995016</td>\n",
       "      <td>1.006630</td>\n",
       "      <td>0.996635</td>\n",
       "      <td>1.002564</td>\n",
       "    </tr>\n",
       "    <tr>\n",
       "      <th>3</th>\n",
       "      <td>1.026583</td>\n",
       "      <td>1.016158</td>\n",
       "      <td>0.990275</td>\n",
       "      <td>1.010093</td>\n",
       "      <td>1.007575</td>\n",
       "      <td>0.990349</td>\n",
       "      <td>0.998855</td>\n",
       "      <td>1.009714</td>\n",
       "      <td>1.004740</td>\n",
       "      <td>0.996888</td>\n",
       "      <td>...</td>\n",
       "      <td>0.995951</td>\n",
       "      <td>1.024635</td>\n",
       "      <td>1.001104</td>\n",
       "      <td>1.002228</td>\n",
       "      <td>1.007354</td>\n",
       "      <td>1.002932</td>\n",
       "      <td>0.998402</td>\n",
       "      <td>1.001383</td>\n",
       "      <td>0.992956</td>\n",
       "      <td>1.000512</td>\n",
       "    </tr>\n",
       "    <tr>\n",
       "      <th>4</th>\n",
       "      <td>1.027543</td>\n",
       "      <td>1.023023</td>\n",
       "      <td>0.993082</td>\n",
       "      <td>1.010707</td>\n",
       "      <td>1.007880</td>\n",
       "      <td>0.992560</td>\n",
       "      <td>0.999229</td>\n",
       "      <td>1.010509</td>\n",
       "      <td>1.006035</td>\n",
       "      <td>0.997289</td>\n",
       "      <td>...</td>\n",
       "      <td>1.003346</td>\n",
       "      <td>1.031881</td>\n",
       "      <td>0.998225</td>\n",
       "      <td>1.004064</td>\n",
       "      <td>1.002672</td>\n",
       "      <td>0.996163</td>\n",
       "      <td>0.999944</td>\n",
       "      <td>1.000924</td>\n",
       "      <td>0.992559</td>\n",
       "      <td>1.000841</td>\n",
       "    </tr>\n",
       "    <tr>\n",
       "      <th>...</th>\n",
       "      <td>...</td>\n",
       "      <td>...</td>\n",
       "      <td>...</td>\n",
       "      <td>...</td>\n",
       "      <td>...</td>\n",
       "      <td>...</td>\n",
       "      <td>...</td>\n",
       "      <td>...</td>\n",
       "      <td>...</td>\n",
       "      <td>...</td>\n",
       "      <td>...</td>\n",
       "      <td>...</td>\n",
       "      <td>...</td>\n",
       "      <td>...</td>\n",
       "      <td>...</td>\n",
       "      <td>...</td>\n",
       "      <td>...</td>\n",
       "      <td>...</td>\n",
       "      <td>...</td>\n",
       "      <td>...</td>\n",
       "      <td>...</td>\n",
       "    </tr>\n",
       "    <tr>\n",
       "      <th>7556</th>\n",
       "      <td>729.776113</td>\n",
       "      <td>1067.412511</td>\n",
       "      <td>2010.864447</td>\n",
       "      <td>1610.925769</td>\n",
       "      <td>1643.870789</td>\n",
       "      <td>618.010200</td>\n",
       "      <td>1149.227770</td>\n",
       "      <td>1118.435985</td>\n",
       "      <td>964.678889</td>\n",
       "      <td>859.315872</td>\n",
       "      <td>...</td>\n",
       "      <td>1102.947608</td>\n",
       "      <td>1830.184871</td>\n",
       "      <td>1257.256876</td>\n",
       "      <td>1926.810180</td>\n",
       "      <td>862.059733</td>\n",
       "      <td>938.778208</td>\n",
       "      <td>1589.698513</td>\n",
       "      <td>508.366182</td>\n",
       "      <td>1283.780532</td>\n",
       "      <td>2494.999449</td>\n",
       "    </tr>\n",
       "    <tr>\n",
       "      <th>7557</th>\n",
       "      <td>729.408669</td>\n",
       "      <td>1072.428245</td>\n",
       "      <td>2015.897811</td>\n",
       "      <td>1601.838195</td>\n",
       "      <td>1641.669999</td>\n",
       "      <td>614.925270</td>\n",
       "      <td>1149.857304</td>\n",
       "      <td>1119.255504</td>\n",
       "      <td>961.225438</td>\n",
       "      <td>864.745337</td>\n",
       "      <td>...</td>\n",
       "      <td>1100.286851</td>\n",
       "      <td>1821.549194</td>\n",
       "      <td>1262.908955</td>\n",
       "      <td>1935.001267</td>\n",
       "      <td>864.325624</td>\n",
       "      <td>932.589119</td>\n",
       "      <td>1588.538542</td>\n",
       "      <td>507.300434</td>\n",
       "      <td>1290.986781</td>\n",
       "      <td>2502.201817</td>\n",
       "    </tr>\n",
       "    <tr>\n",
       "      <th>7558</th>\n",
       "      <td>731.092665</td>\n",
       "      <td>1074.747235</td>\n",
       "      <td>2011.230224</td>\n",
       "      <td>1594.308806</td>\n",
       "      <td>1642.523359</td>\n",
       "      <td>616.546137</td>\n",
       "      <td>1142.469307</td>\n",
       "      <td>1117.793472</td>\n",
       "      <td>964.470993</td>\n",
       "      <td>867.290953</td>\n",
       "      <td>...</td>\n",
       "      <td>1100.322964</td>\n",
       "      <td>1817.964277</td>\n",
       "      <td>1250.984550</td>\n",
       "      <td>1930.813875</td>\n",
       "      <td>863.807934</td>\n",
       "      <td>933.149699</td>\n",
       "      <td>1588.784588</td>\n",
       "      <td>508.475830</td>\n",
       "      <td>1288.774230</td>\n",
       "      <td>2504.807755</td>\n",
       "    </tr>\n",
       "    <tr>\n",
       "      <th>7559</th>\n",
       "      <td>734.453439</td>\n",
       "      <td>1081.067074</td>\n",
       "      <td>2017.504568</td>\n",
       "      <td>1590.007294</td>\n",
       "      <td>1645.465225</td>\n",
       "      <td>621.193532</td>\n",
       "      <td>1150.765930</td>\n",
       "      <td>1119.999314</td>\n",
       "      <td>964.848471</td>\n",
       "      <td>868.063099</td>\n",
       "      <td>...</td>\n",
       "      <td>1102.579571</td>\n",
       "      <td>1814.951497</td>\n",
       "      <td>1244.841166</td>\n",
       "      <td>1935.061907</td>\n",
       "      <td>861.132084</td>\n",
       "      <td>936.771701</td>\n",
       "      <td>1585.901979</td>\n",
       "      <td>506.975348</td>\n",
       "      <td>1291.847294</td>\n",
       "      <td>2504.116135</td>\n",
       "    </tr>\n",
       "    <tr>\n",
       "      <th>7560</th>\n",
       "      <td>734.187354</td>\n",
       "      <td>1094.208561</td>\n",
       "      <td>2024.526828</td>\n",
       "      <td>1589.801362</td>\n",
       "      <td>1641.492607</td>\n",
       "      <td>625.652652</td>\n",
       "      <td>1143.517980</td>\n",
       "      <td>1119.329579</td>\n",
       "      <td>958.471752</td>\n",
       "      <td>864.754654</td>\n",
       "      <td>...</td>\n",
       "      <td>1107.324227</td>\n",
       "      <td>1799.914680</td>\n",
       "      <td>1239.135699</td>\n",
       "      <td>1919.904076</td>\n",
       "      <td>864.259970</td>\n",
       "      <td>933.034033</td>\n",
       "      <td>1574.410149</td>\n",
       "      <td>505.050106</td>\n",
       "      <td>1283.392073</td>\n",
       "      <td>2512.337898</td>\n",
       "    </tr>\n",
       "  </tbody>\n",
       "</table>\n",
       "<p>7561 rows × 500 columns</p>\n",
       "</div>"
      ]
     },
     "metadata": {},
     "execution_count": 160
    }
   ],
   "metadata": {}
  },
  {
   "cell_type": "code",
   "execution_count": 161,
   "source": [
    "# Visualize the 30-year Monte Carlo simulation by creating an\r\n",
    "# overlay line plot\r\n",
    "MC_thirty_years_line_plot = MC_thirty_years.plot_simulation()\r\n"
   ],
   "outputs": [
    {
     "output_type": "display_data",
     "data": {
      "text/plain": [
       "<Figure size 432x288 with 1 Axes>"
      ],
      "image/png": "[encoded data removed]"
     },
     "metadata": {
      "needs_background": "light"
     }
    }
   ],
   "metadata": {}
  },
  {
   "cell_type": "markdown",
   "source": [
    "#### Step 3: Plot the probability distribution of the Monte Carlo simulation."
   ],
   "metadata": {}
  },
  {
   "cell_type": "code",
   "execution_count": 162,
   "source": [
    "# Visualize the probability distribution of the 30-year Monte Carlo simulation \r\n",
    "# by plotting a histogram\r\n",
    "MC_thirty_years_distribution_plot = MC_thirty_years.plot_distribution()\r\n"
   ],
   "outputs": [
    {
     "output_type": "display_data",
     "data": {
      "text/plain": [
       "<Figure size 432x288 with 1 Axes>"
      ],
      "image/png": "[encoded data removed]"
     },
     "metadata": {
      "needs_background": "light"
     }
    }
   ],
   "metadata": {}
  },
  {
   "cell_type": "markdown",
   "source": [
    "#### Step 4: Generate the summary statistics for the Monte Carlo simulation."
   ],
   "metadata": {}
  },
  {
   "cell_type": "code",
   "execution_count": 163,
   "source": [
    "# Generate summary statistics from the 30-year Monte Carlo simulation results\r\n",
    "# Save the results as a variable\r\n",
    "MC_thirty_years_summary_table = MC_thirty_years.summarize_cumulative_return()\r\n",
    "\r\n",
    "\r\n",
    "# Review the 30-year Monte Carlo summary statistics\r\n",
    "print(MC_thirty_years_summary_table)"
   ],
   "outputs": [
    {
     "output_type": "stream",
     "name": "stdout",
     "text": [
      "count            500.000000\n",
      "mean            1195.649086\n",
      "std              530.466045\n",
      "min              222.009866\n",
      "25%              853.498596\n",
      "50%             1072.595978\n",
      "75%             1405.315816\n",
      "max             4582.970321\n",
      "95% CI Lower     495.211283\n",
      "95% CI Upper    2658.302613\n",
      "Name: 7560, dtype: float64\n"
     ]
    }
   ],
   "metadata": {}
  },
  {
   "cell_type": "markdown",
   "source": [
    "### Analyze the Retirement Portfolio Forecasts\n",
    "\n",
    "Using the current value of only the stock and bond portion of the member's portfolio and the summary statistics that you generated from the Monte Carlo simulation, answer the following question in your Jupyter notebook:\n",
    "\n",
    "-  What are the lower and upper bounds for the expected value of the portfolio with a 95% confidence interval?\n"
   ],
   "metadata": {}
  },
  {
   "cell_type": "code",
   "execution_count": 164,
   "source": [
    "# Print the current balance of the stock and bond portion of the members portfolio\r\n",
    "print(f'The current balance of the stock and bond portion of the portfolio is ${total_stocks_bonds:.2f}')\r\n"
   ],
   "outputs": [
    {
     "output_type": "stream",
     "name": "stdout",
     "text": [
      "The current balance of the stock and bond portion of the portfolio is $70050.70\n"
     ]
    }
   ],
   "metadata": {}
  },
  {
   "cell_type": "code",
   "execution_count": 167,
   "source": [
    "# Use the lower and upper `95%` confidence intervals to calculate the range of the possible outcomes for the current stock/bond portfolio\r\n",
    "ci_lower_thirty_cumulative_return = round(MC_thirty_years_summary_table[8]*70050.70)\r\n",
    "ci_upper_thirty_cumulative_return = round(MC_thirty_years_summary_table[9]*70050.70)\r\n",
    "\r\n",
    "# Print the result of your calculations\r\n",
    "print(f\"There is a 95% chance that the stock and bonds portfolio, with a 40/60 split between AGG and SPY over the next 30 years will end within a range of \"\r\n",
    "      f'${ci_lower_thirty_cumulative_return} and ${ci_upper_thirty_cumulative_return}.')\r\n"
   ],
   "outputs": [
    {
     "output_type": "stream",
     "name": "stdout",
     "text": [
      "There is a 95% chance that the stock and bonds portfolio, with a 40/60 split between AGG and SPY over the next 30 years will end within a range of $34689897 and $186215959.\n"
     ]
    }
   ],
   "metadata": {}
  },
  {
   "cell_type": "markdown",
   "source": [
    "### Forecast Cumulative Returns in 10 Years\n",
    "\n",
    "The CTO of the credit union is impressed with your work on these planning tools but wonders if 30 years is a long time to wait until retirement. So, your next task is to adjust the retirement portfolio and run a new Monte Carlo simulation to find out if the changes will allow members to retire earlier.\n",
    "\n",
    "For this new Monte Carlo simulation, do the following: \n",
    "\n",
    "- Forecast the cumulative returns for 10 years from now. Because of the shortened investment horizon (30 years to 10 years), the portfolio needs to invest more heavily in the riskier asset&mdash;that is, stock&mdash;to help accumulate wealth for retirement. \n",
    "\n",
    "- Adjust the weights of the retirement portfolio so that the composition for the Monte Carlo simulation consists of 20% bonds and 80% stocks. \n",
    "\n",
    "- Run the simulation over 500 samples, and use the same data that the API call to Alpaca generated.\n",
    "\n",
    "- Based on the new Monte Carlo simulation, answer the following questions in your Jupyter notebook:\n",
    "\n",
    "    - Using the current value of only the stock and bond portion of the member's portfolio and the summary statistics that you generated from the new Monte Carlo simulation, what are the lower and upper bounds for the expected value of the portfolio (with the new weights) with a 95% confidence interval?\n",
    "\n",
    "    - Will weighting the portfolio more heavily toward stocks allow the credit union members to retire after only 10 years?\n"
   ],
   "metadata": {}
  },
  {
   "cell_type": "code",
   "execution_count": null,
   "source": [
    "# Configure a Monte Carlo simulation to forecast 10 years cumulative returns\r\n",
    "# The weights should be split 20% to AGG and 80% to SPY.\r\n",
    "# Run 500 samples.\r\n",
    "# YOUR CODE HERE\r\n",
    "\r\n",
    "# Review the simulation input data\r\n",
    "# YOUR CODE HERE\r\n"
   ],
   "outputs": [],
   "metadata": {}
  },
  {
   "cell_type": "code",
   "execution_count": null,
   "source": [
    "# Run the Monte Carlo simulation to forecast 10 years cumulative returns\r\n",
    "# YOUR CODE HERE\r\n"
   ],
   "outputs": [],
   "metadata": {}
  },
  {
   "cell_type": "code",
   "execution_count": null,
   "source": [
    "# Visualize the 10-year Monte Carlo simulation by creating an\r\n",
    "# overlay line plot\r\n",
    "# YOUR CODE HERE\r\n"
   ],
   "outputs": [],
   "metadata": {}
  },
  {
   "cell_type": "code",
   "execution_count": null,
   "source": [
    "# Visualize the probability distribution of the 10-year Monte Carlo simulation \r\n",
    "# by plotting a histogram\r\n",
    "# YOUR CODE HERE\r\n"
   ],
   "outputs": [],
   "metadata": {}
  },
  {
   "cell_type": "code",
   "execution_count": null,
   "source": [
    "# Generate summary statistics from the 10-year Monte Carlo simulation results\r\n",
    "# Save the results as a variable\r\n",
    "# YOUR CODE HERE\r\n",
    "\r\n",
    "\r\n",
    "# Review the 10-year Monte Carlo summary statistics\r\n",
    "# YOUR CODE HERE"
   ],
   "outputs": [],
   "metadata": {}
  },
  {
   "cell_type": "markdown",
   "source": [
    "### Answer the following questions:"
   ],
   "metadata": {}
  },
  {
   "cell_type": "markdown",
   "source": [
    "#### Question: Using the current value of only the stock and bond portion of the member's portfolio and the summary statistics that you generated from the new Monte Carlo simulation, what are the lower and upper bounds for the expected value of the portfolio (with the new weights) with a 95% confidence interval?"
   ],
   "metadata": {}
  },
  {
   "cell_type": "code",
   "execution_count": null,
   "source": [
    "# Print the current balance of the stock and bond portion of the members portfolio\r\n",
    "# YOUR CODE HERE\r\n"
   ],
   "outputs": [],
   "metadata": {}
  },
  {
   "cell_type": "code",
   "execution_count": null,
   "source": [
    "# Use the lower and upper `95%` confidence intervals to calculate the range of the possible outcomes for the current stock/bond portfolio\r\n",
    "ci_lower_ten_cumulative_return = # YOUR CODE HERE\r\n",
    "ci_upper_ten_cumulative_return = # YOUR CODE HERE\r\n",
    "\r\n",
    "# Print the result of your calculations\r\n",
    "# YOUR CODE HERE\r\n"
   ],
   "outputs": [],
   "metadata": {}
  },
  {
   "cell_type": "markdown",
   "source": [
    "#### Question: Will weighting the portfolio more heavily to stocks allow the credit union members to retire after only 10 years?"
   ],
   "metadata": {}
  },
  {
   "cell_type": "raw",
   "source": [
    "**Answer** # YOUR ANSWER HERE"
   ],
   "metadata": {}
  },
  {
   "cell_type": "code",
   "execution_count": null,
   "source": [],
   "outputs": [],
   "metadata": {}
  }
 ],
 "metadata": {
  "kernelspec": {
   "name": "python3",
   "display_name": "Python 3.7.10 64-bit ('dev': conda)"
  },
  "language_info": {
   "codemirror_mode": {
    "name": "ipython",
    "version": 3
   },
   "file_extension": ".py",
   "mimetype": "text/x-python",
   "name": "python",
   "nbconvert_exporter": "python",
   "pygments_lexer": "ipython3",
   "version": "3.7.10"
  },
  "interpreter": {
   "hash": "98e8a86f1a80fa5964c775adedce0c1597264d02af6c8f426349aa657d6ada29"
  }
 },
 "nbformat": 4,
 "nbformat_minor": 4
}